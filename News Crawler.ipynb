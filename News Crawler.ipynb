{
 "cells": [
  {
   "cell_type": "code",
   "execution_count": 1,
   "id": "d64adb3e",
   "metadata": {},
   "outputs": [],
   "source": [
    "# https://2markdown.com\n",
    "md_api_key = \"YOUR_KEY\"\n",
    "# https://openai.com\n",
    "openai_api_key = \"YOUR_KEY\""
   ]
  },
  {
   "cell_type": "code",
   "execution_count": 2,
   "id": "bacd8678",
   "metadata": {},
   "outputs": [],
   "source": [
    "from typing import Optional, List\n",
    "from pydantic import BaseModel, Field"
   ]
  },
  {
   "cell_type": "code",
   "execution_count": 3,
   "id": "228cb3ed",
   "metadata": {},
   "outputs": [],
   "source": [
    "from langchain.document_loaders import ToMarkdownLoader"
   ]
  },
  {
   "cell_type": "code",
   "execution_count": 4,
   "id": "cc476b51",
   "metadata": {},
   "outputs": [],
   "source": [
    "from langchain.chat_models import ChatOpenAI\n",
    "from langchain.chains import create_extraction_chain, create_extraction_chain_pydantic\n",
    "from langchain.prompts import ChatPromptTemplate"
   ]
  },
  {
   "cell_type": "code",
   "execution_count": 5,
   "id": "deb7f909",
   "metadata": {},
   "outputs": [],
   "source": [
    "llm = ChatOpenAI(temperature=0, model=\"gpt-3.5-turbo-0613\", openai_api_key=openai_api_key)"
   ]
  },
  {
   "cell_type": "code",
   "execution_count": 6,
   "id": "b5922f19",
   "metadata": {},
   "outputs": [],
   "source": [
    "class NewsEvent(BaseModel):\n",
    "    location: str\n",
    "    date: str\n",
    "    description: str"
   ]
  },
  {
   "cell_type": "code",
   "execution_count": 7,
   "id": "c7055f16",
   "metadata": {},
   "outputs": [],
   "source": [
    "loader = ToMarkdownLoader(\n",
    "    url=\"https://edition.cnn.com/2023/06/17/europe/ukraine-counteroffensive-explained-hnk-intl/index.html\",\n",
    "    api_key=md_api_key)\n",
    "docs = loader.load()"
   ]
  },
  {
   "cell_type": "code",
   "execution_count": 8,
   "id": "ff5945f9",
   "metadata": {},
   "outputs": [],
   "source": [
    "chain = create_extraction_chain_pydantic(pydantic_schema=NewsEvent, llm=llm)"
   ]
  },
  {
   "cell_type": "code",
   "execution_count": 9,
   "id": "d83acd37",
   "metadata": {},
   "outputs": [],
   "source": [
    "res = chain.run(docs[0].page_content)"
   ]
  },
  {
   "cell_type": "code",
   "execution_count": 10,
   "id": "49616f66",
   "metadata": {},
   "outputs": [
    {
     "name": "stdout",
     "output_type": "stream",
     "text": [
      "location: Zaporizhzhia date: June 13\n",
      "Ukrainian servicemen fire a BM-21 'Grad' multiple rocket launcher toward Russian positions near Bakhmut\n",
      "\n",
      "\n",
      "location: Bakhmut date: June 1, 2023\n",
      "Destruction in the city of Bakhmut after hostilities\n",
      "\n",
      "\n",
      "location: Donetsk date: June 1\n",
      "Ukrainian soldiers lie on a roadside during training for an operation near Bakhmut\n",
      "\n",
      "\n",
      "location: Zaporizhzhia Nuclear Power Plant date: June 15\n",
      "A Russian service member stands guard at a checkpoint near the Zaporizhzhia Nuclear Power Plant in Russian-controlled Ukraine\n",
      "\n",
      "\n",
      "location: Zaporizhzhia date: June 15\n",
      "Russian servicemen stand guard near the Russian-controlled Zaporizhzhia nuclear power plant in southern Ukraine\n",
      "\n",
      "\n"
     ]
    }
   ],
   "source": [
    "for news in res:\n",
    "    print(\"location: \" + news.location + \" date: \" + news.date)\n",
    "    print(news.description)\n",
    "    print(\"\\n\")"
   ]
  },
  {
   "cell_type": "code",
   "execution_count": null,
   "id": "706cf314",
   "metadata": {},
   "outputs": [],
   "source": []
  }
 ],
 "metadata": {
  "kernelspec": {
   "display_name": "Python 3 (ipykernel)",
   "language": "python",
   "name": "python3"
  },
  "language_info": {
   "codemirror_mode": {
    "name": "ipython",
    "version": 3
   },
   "file_extension": ".py",
   "mimetype": "text/x-python",
   "name": "python",
   "nbconvert_exporter": "python",
   "pygments_lexer": "ipython3",
   "version": "3.10.12"
  }
 },
 "nbformat": 4,
 "nbformat_minor": 5
}
