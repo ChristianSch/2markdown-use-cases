{
 "cells": [
  {
   "cell_type": "code",
   "execution_count": 1,
   "id": "02100405",
   "metadata": {},
   "outputs": [],
   "source": [
    "# https://2markdown.com\n",
    "md_api_key = \"YOUR_KEY\"\n",
    "# https://openai.com\n",
    "openai_api_key = \"YOUR_KEY\""
   ]
  },
  {
   "cell_type": "code",
   "execution_count": 3,
   "id": "667d7bc1",
   "metadata": {},
   "outputs": [],
   "source": [
    "import openai\n",
    "import json\n",
    "import requests"
   ]
  },
  {
   "cell_type": "code",
   "execution_count": 4,
   "id": "7c290bd0",
   "metadata": {},
   "outputs": [],
   "source": [
    "openai.api_key = openai_api_key"
   ]
  },
  {
   "attachments": {},
   "cell_type": "markdown",
   "id": "edd2b618",
   "metadata": {},
   "source": [
    "Let's build a function that can retrieve website content via 2markdown.com"
   ]
  },
  {
   "cell_type": "code",
   "execution_count": 5,
   "id": "9f5ba9ab",
   "metadata": {},
   "outputs": [],
   "source": [
    "def get_website_content(url):\n",
    "    res = requests.post(\"https://2markdown.com/api/2md\", json={\"url\":url}, headers={\"X-Api-Key\":md_api_key})\n",
    "    \n",
    "    if res.status_code == 200:\n",
    "        return res.json()['article']\n",
    "    \n",
    "    return None"
   ]
  },
  {
   "attachments": {},
   "cell_type": "markdown",
   "id": "6d3672a1",
   "metadata": {},
   "source": [
    "Which can look like this:"
   ]
  },
  {
   "cell_type": "code",
   "execution_count": 6,
   "id": "693a6e22",
   "metadata": {},
   "outputs": [
    {
     "data": {
      "text/plain": [
       "\"## Empower Your Knowledge,  Unclutter Your Inbox\\n\\n## Drowning in a Sea of Newsletters?\\n\\nAre you tired of wading through countless newsletters, struggling to find the\\ninformation you need? Is your inbox cluttered with irrelevant content, making it\\ndifficult to stay up-to-date in today's fast-paced world? You're not alone. We\\nknow the feeling and that's why we created Newsletterify.\\n\\n\\n![list of digests](https://newsletterify.com/newsletters.png)\\n\\n![list of digests](https://newsletterify.com/list_of_digests.png)\\n\\n## Introducing Newsletterify\\n\\nNewsletterify is your ultimate newsletter reader, designed to give you a\\ndedicated email address for all your newsletter subscriptions. Organize,\\ncustomize, and schedule digests based on topics and preferences, giving you the\\nfreedom to gain a knowledge advantage on your terms.\\n\\n\\n## Simplify Your Learning Journey with 3 Easy Steps\\n\\n- 1\\\\. Get your own email address for newsletters 📩\\n- 2\\\\. Sign up for some newsletters✨\\n- 3\\\\. Bundle them into digests and decide when to receive the digest 🚀\\n\\n## Unlock Your Full Potential\\n\\nWith Newsletterify, you'll gain access to a world of knowledge without the\\nstress of a cluttered inbox. Stay up-to-date with industry insights, learn from\\nexperts, and become a thought leader in your field. It's time to empower your\\nknowledge and elevate your success\\n\\n\\n## Here's What Our Users Say!\\n\\nI always felt guilty that I have so many interesting newsletters worth\\nreading, but never did read any of them because it was overwhelming. Now I'm\\npicking up Newsletterify in those moments where I want to browse Instagram\\nand I'm very happy!\\n\\n\\n![Chris profile](https://newsletterify.com/300x300_gnLdQfbabPYsSmu34xhlb34MPmh1.webp)\\n\\n## Ready to Transform Your Newsletter Experience? 🚀\\n\\nJoin Newsletterify today and discover the smarter way to stay informed,\\ndeclutter your inbox, and unlock your knowledge advantage. Sign up now and take\\ncontrol of your learning journey.\\n\\n\\n**Save more than 15%** by paying annually:\\n\\n- Your own mail address\\n- Infinite digests\\n- Infinite newsletters\\n\\nMost Popular 👇\\n\\n\\n## Pro\\n\\n## $69.99\\xa0 /year\\n\\n- Everything from basic\\n- Immersive reader\\\\*\\n- Newsletter summarizations\\\\*\\n- Personal recommendations\\\\*\\n\\n\\\\*: coming soon\""
      ]
     },
     "execution_count": 6,
     "metadata": {},
     "output_type": "execute_result"
    }
   ],
   "source": [
    "get_website_content(\"https://newsletterify.com\")"
   ]
  },
  {
   "attachments": {},
   "cell_type": "markdown",
   "id": "344ad548",
   "metadata": {},
   "source": [
    "Now, let's glue this together with the OpenAPI API: [[source](https://platform.openai.com/docs/guides/gpt/function-calling)]"
   ]
  },
  {
   "cell_type": "code",
   "execution_count": 7,
   "id": "cea771e5",
   "metadata": {},
   "outputs": [],
   "source": [
    "def run_conversation():\n",
    "    # Step 1: send the conversation and available functions to GPT\n",
    "    messages = [{\"role\": \"user\", \"content\": \"What's https://newsletterify.com about?\"}]\n",
    "    functions = [\n",
    "        {\n",
    "            \"name\": \"get_website_content\",\n",
    "            \"description\": \"Retrieve the content of any website in URL format\",\n",
    "            \"parameters\": {\n",
    "                \"type\": \"object\",\n",
    "                \"properties\": {\n",
    "                    \"url\": {\n",
    "                        \"type\": \"string\",\n",
    "                        \"description\": \"The URL of the website, i.e. https://openai.com\",\n",
    "                    },\n",
    "                },\n",
    "                \"required\": [\"url\"],\n",
    "            },\n",
    "        }\n",
    "    ]\n",
    "    response = openai.ChatCompletion.create(\n",
    "        model=\"gpt-3.5-turbo-0613\",\n",
    "        messages=messages,\n",
    "        functions=functions,\n",
    "        function_call=\"auto\",  # auto is default, but we'll be explicit\n",
    "    )\n",
    "    response_message = response[\"choices\"][0][\"message\"]\n",
    "\n",
    "    # Step 2: check if GPT wanted to call a function\n",
    "    if response_message.get(\"function_call\"):\n",
    "        # Step 3: call the function\n",
    "        # Note: the JSON response may not always be valid; be sure to handle errors\n",
    "        available_functions = {\n",
    "            \"get_website_content\": get_website_content,\n",
    "        }  # only one function in this example, but you can have multiple\n",
    "        function_name = response_message[\"function_call\"][\"name\"]\n",
    "        fuction_to_call = available_functions[function_name]\n",
    "        function_args = json.loads(response_message[\"function_call\"][\"arguments\"])\n",
    "        function_response = fuction_to_call(\n",
    "            url=function_args.get(\"url\"),\n",
    "        )\n",
    "\n",
    "        # Step 4: send the info on the function call and function response to GPT\n",
    "        messages.append(response_message)  # extend conversation with assistant's reply\n",
    "        messages.append(\n",
    "            {\n",
    "                \"role\": \"function\",\n",
    "                \"name\": function_name,\n",
    "                \"content\": function_response,\n",
    "            }\n",
    "        )  # extend conversation with function response\n",
    "        second_response = openai.ChatCompletion.create(\n",
    "            model=\"gpt-3.5-turbo-0613\",\n",
    "            messages=messages,\n",
    "        )  # get a new response from GPT where it can see the function response\n",
    "        return second_response\n"
   ]
  },
  {
   "cell_type": "code",
   "execution_count": 8,
   "id": "a8ec778d",
   "metadata": {},
   "outputs": [
    {
     "name": "stdout",
     "output_type": "stream",
     "text": [
      "{\n",
      "  \"choices\": [\n",
      "    {\n",
      "      \"finish_reason\": \"stop\",\n",
      "      \"index\": 0,\n",
      "      \"message\": {\n",
      "        \"content\": \"Newsletterify is a platform that aims to simplify the process of managing and reading newsletters. It provides users with a dedicated email address for their newsletter subscriptions, allowing them to organize, customize, and schedule digests based on their preferences. By using Newsletterify, users can unclutter their inbox, stay up-to-date with industry insights, and gain access to a world of knowledge without feeling overwhelmed. The platform also offers features such as an immersive reader, newsletter summarizations, and personal recommendations.\",\n",
      "        \"role\": \"assistant\"\n",
      "      }\n",
      "    }\n",
      "  ],\n",
      "  \"created\": 1687181778,\n",
      "  \"id\": \"chatcmpl-7T9LGDWj7ipyvpfVO5cyY19CDqhZA\",\n",
      "  \"model\": \"gpt-3.5-turbo-0613\",\n",
      "  \"object\": \"chat.completion\",\n",
      "  \"usage\": {\n",
      "    \"completion_tokens\": 98,\n",
      "    \"prompt_tokens\": 561,\n",
      "    \"total_tokens\": 659\n",
      "  }\n",
      "}\n"
     ]
    }
   ],
   "source": [
    "print(run_conversation())"
   ]
  },
  {
   "cell_type": "code",
   "execution_count": null,
   "id": "785e4992",
   "metadata": {},
   "outputs": [],
   "source": []
  }
 ],
 "metadata": {
  "kernelspec": {
   "display_name": "Python 3 (ipykernel)",
   "language": "python",
   "name": "python3"
  },
  "language_info": {
   "codemirror_mode": {
    "name": "ipython",
    "version": 3
   },
   "file_extension": ".py",
   "mimetype": "text/x-python",
   "name": "python",
   "nbconvert_exporter": "python",
   "pygments_lexer": "ipython3",
   "version": "3.10.12"
  }
 },
 "nbformat": 4,
 "nbformat_minor": 5
}
